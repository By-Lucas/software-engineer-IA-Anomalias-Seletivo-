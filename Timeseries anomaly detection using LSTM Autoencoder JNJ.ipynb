{
 "cells": [
  {
   "cell_type": "code",
   "execution_count": 1,
   "metadata": {},
   "outputs": [
    {
     "name": "stdout",
     "output_type": "stream",
     "text": [
      "Tensorflow version:  2.8.0\n"
     ]
    }
   ],
   "source": [
    "from tensorflow import keras\n",
    "import tensorflow as tf\n",
    "import numpy as np\n",
    "from sklearn.preprocessing import StandardScaler\n",
    "import pandas as pd\n",
    "import plotly.graph_objects as go\n",
    "import matplotlib.pyplot as plt \n",
    "\n",
    "np.random.seed(1)\n",
    "tf.random.set_seed(1)\n",
    "\n",
    "from tensorflow.keras.models import Sequential\n",
    "from tensorflow.keras.layers import Dense, LSTM, Dropout, RepeatVector, TimeDistributed\n",
    "\n",
    "print('Tensorflow version: ', tf.__version__)"
   ]
  },
  {
   "cell_type": "code",
   "execution_count": 2,
   "metadata": {},
   "outputs": [],
   "source": [
    "df = pd.read_csv('data/JNJ.csv')"
   ]
  },
  {
   "cell_type": "code",
   "execution_count": 3,
   "metadata": {},
   "outputs": [
    {
     "data": {
      "text/html": [
       "<div>\n",
       "<style scoped>\n",
       "    .dataframe tbody tr th:only-of-type {\n",
       "        vertical-align: middle;\n",
       "    }\n",
       "\n",
       "    .dataframe tbody tr th {\n",
       "        vertical-align: top;\n",
       "    }\n",
       "\n",
       "    .dataframe thead th {\n",
       "        text-align: right;\n",
       "    }\n",
       "</style>\n",
       "<table border=\"1\" class=\"dataframe\">\n",
       "  <thead>\n",
       "    <tr style=\"text-align: right;\">\n",
       "      <th></th>\n",
       "      <th>Date</th>\n",
       "      <th>Open</th>\n",
       "      <th>High</th>\n",
       "      <th>Low</th>\n",
       "      <th>Close</th>\n",
       "      <th>Adj Close</th>\n",
       "      <th>Volume</th>\n",
       "    </tr>\n",
       "  </thead>\n",
       "  <tbody>\n",
       "    <tr>\n",
       "      <th>0</th>\n",
       "      <td>1985-09-04</td>\n",
       "      <td>2.937500</td>\n",
       "      <td>2.960938</td>\n",
       "      <td>2.929688</td>\n",
       "      <td>2.953125</td>\n",
       "      <td>0.182094</td>\n",
       "      <td>4188800</td>\n",
       "    </tr>\n",
       "    <tr>\n",
       "      <th>1</th>\n",
       "      <td>1985-09-05</td>\n",
       "      <td>2.953125</td>\n",
       "      <td>2.992188</td>\n",
       "      <td>2.945313</td>\n",
       "      <td>2.976563</td>\n",
       "      <td>0.183539</td>\n",
       "      <td>6176000</td>\n",
       "    </tr>\n",
       "    <tr>\n",
       "      <th>2</th>\n",
       "      <td>1985-09-06</td>\n",
       "      <td>2.992188</td>\n",
       "      <td>3.000000</td>\n",
       "      <td>2.976563</td>\n",
       "      <td>2.992188</td>\n",
       "      <td>0.184502</td>\n",
       "      <td>6606400</td>\n",
       "    </tr>\n",
       "    <tr>\n",
       "      <th>3</th>\n",
       "      <td>1985-09-09</td>\n",
       "      <td>2.992188</td>\n",
       "      <td>2.992188</td>\n",
       "      <td>2.945313</td>\n",
       "      <td>2.945313</td>\n",
       "      <td>0.181612</td>\n",
       "      <td>3150400</td>\n",
       "    </tr>\n",
       "    <tr>\n",
       "      <th>4</th>\n",
       "      <td>1985-09-10</td>\n",
       "      <td>2.953125</td>\n",
       "      <td>2.960938</td>\n",
       "      <td>2.867188</td>\n",
       "      <td>2.875000</td>\n",
       "      <td>0.177276</td>\n",
       "      <td>2841600</td>\n",
       "    </tr>\n",
       "  </tbody>\n",
       "</table>\n",
       "</div>"
      ],
      "text/plain": [
       "         Date      Open      High       Low     Close  Adj Close   Volume\n",
       "0  1985-09-04  2.937500  2.960938  2.929688  2.953125   0.182094  4188800\n",
       "1  1985-09-05  2.953125  2.992188  2.945313  2.976563   0.183539  6176000\n",
       "2  1985-09-06  2.992188  3.000000  2.976563  2.992188   0.184502  6606400\n",
       "3  1985-09-09  2.992188  2.992188  2.945313  2.945313   0.181612  3150400\n",
       "4  1985-09-10  2.953125  2.960938  2.867188  2.875000   0.177276  2841600"
      ]
     },
     "execution_count": 3,
     "metadata": {},
     "output_type": "execute_result"
    }
   ],
   "source": [
    "df.head()"
   ]
  },
  {
   "cell_type": "code",
   "execution_count": 4,
   "metadata": {},
   "outputs": [],
   "source": [
    "df = df[['Date', 'Close']]"
   ]
  },
  {
   "cell_type": "code",
   "execution_count": 5,
   "metadata": {},
   "outputs": [
    {
     "data": {
      "text/plain": [
       "Date      object\n",
       "Close    float64\n",
       "dtype: object"
      ]
     },
     "execution_count": 5,
     "metadata": {},
     "output_type": "execute_result"
    }
   ],
   "source": [
    "df.dtypes"
   ]
  },
  {
   "cell_type": "code",
   "execution_count": 6,
   "metadata": {},
   "outputs": [],
   "source": [
    "df['Date'] = pd.to_datetime(df['Date'])"
   ]
  },
  {
   "cell_type": "code",
   "execution_count": 7,
   "metadata": {},
   "outputs": [
    {
     "data": {
      "text/plain": [
       "Date     datetime64[ns]\n",
       "Close           float64\n",
       "dtype: object"
      ]
     },
     "execution_count": 7,
     "metadata": {},
     "output_type": "execute_result"
    }
   ],
   "source": [
    "df.dtypes"
   ]
  },
  {
   "cell_type": "code",
   "execution_count": 8,
   "metadata": {},
   "outputs": [
    {
     "data": {
      "text/plain": [
       "(Timestamp('1985-09-04 00:00:00'), Timestamp('2020-09-03 00:00:00'))"
      ]
     },
     "execution_count": 8,
     "metadata": {},
     "output_type": "execute_result"
    }
   ],
   "source": [
    "df['Date'].min(), df['Date'].max()"
   ]
  },
  {
   "cell_type": "code",
   "execution_count": 10,
   "metadata": {},
   "outputs": [
    {
     "ename": "ValueError",
     "evalue": "Mime type rendering requires nbformat>=4.2.0 but it is not installed",
     "output_type": "error",
     "traceback": [
      "\u001b[1;31m---------------------------------------------------------------------------\u001b[0m",
      "\u001b[1;31mValueError\u001b[0m                                Traceback (most recent call last)",
      "\u001b[1;32md:\\2 Projetos - Seletivos\\05 Tradin_Sentiments_tests\\Trading_Sentiment_Tests-master\\ML_TEST\\Timeseries anomaly detection using LSTM Autoencoder JNJ.ipynb Cell 9'\u001b[0m in \u001b[0;36m<cell line: 4>\u001b[1;34m()\u001b[0m\n\u001b[0;32m      <a href='vscode-notebook-cell:/d%3A/2%20Projetos%20-%20Seletivos/05%20Tradin_Sentiments_tests/Trading_Sentiment_Tests-master/ML_TEST/Timeseries%20anomaly%20detection%20using%20LSTM%20Autoencoder%20JNJ.ipynb#ch0000008?line=1'>2</a>\u001b[0m fig\u001b[39m.\u001b[39madd_trace(go\u001b[39m.\u001b[39mScatter(x\u001b[39m=\u001b[39mdf[\u001b[39m'\u001b[39m\u001b[39mDate\u001b[39m\u001b[39m'\u001b[39m], y\u001b[39m=\u001b[39mdf[\u001b[39m'\u001b[39m\u001b[39mClose\u001b[39m\u001b[39m'\u001b[39m], name\u001b[39m=\u001b[39m\u001b[39m'\u001b[39m\u001b[39mClose price\u001b[39m\u001b[39m'\u001b[39m))\n\u001b[0;32m      <a href='vscode-notebook-cell:/d%3A/2%20Projetos%20-%20Seletivos/05%20Tradin_Sentiments_tests/Trading_Sentiment_Tests-master/ML_TEST/Timeseries%20anomaly%20detection%20using%20LSTM%20Autoencoder%20JNJ.ipynb#ch0000008?line=2'>3</a>\u001b[0m fig\u001b[39m.\u001b[39mupdate_layout(showlegend\u001b[39m=\u001b[39m\u001b[39mTrue\u001b[39;00m, title\u001b[39m=\u001b[39m\u001b[39m'\u001b[39m\u001b[39mJohnson and Johnson Stock Price 1985-2020\u001b[39m\u001b[39m'\u001b[39m)\n\u001b[1;32m----> <a href='vscode-notebook-cell:/d%3A/2%20Projetos%20-%20Seletivos/05%20Tradin_Sentiments_tests/Trading_Sentiment_Tests-master/ML_TEST/Timeseries%20anomaly%20detection%20using%20LSTM%20Autoencoder%20JNJ.ipynb#ch0000008?line=3'>4</a>\u001b[0m fig\u001b[39m.\u001b[39;49mshow()\n",
      "File \u001b[1;32md:\\2 Projetos - Seletivos\\05 Tradin_Sentiments_tests\\venv\\lib\\site-packages\\plotly\\basedatatypes.py:3400\u001b[0m, in \u001b[0;36mBaseFigure.show\u001b[1;34m(self, *args, **kwargs)\u001b[0m\n\u001b[0;32m   <a href='file:///d%3A/2%20Projetos%20-%20Seletivos/05%20Tradin_Sentiments_tests/venv/lib/site-packages/plotly/basedatatypes.py?line=3366'>3367</a>\u001b[0m \u001b[39m\"\"\"\u001b[39;00m\n\u001b[0;32m   <a href='file:///d%3A/2%20Projetos%20-%20Seletivos/05%20Tradin_Sentiments_tests/venv/lib/site-packages/plotly/basedatatypes.py?line=3367'>3368</a>\u001b[0m \u001b[39mShow a figure using either the default renderer(s) or the renderer(s)\u001b[39;00m\n\u001b[0;32m   <a href='file:///d%3A/2%20Projetos%20-%20Seletivos/05%20Tradin_Sentiments_tests/venv/lib/site-packages/plotly/basedatatypes.py?line=3368'>3369</a>\u001b[0m \u001b[39mspecified by the renderer argument\u001b[39;00m\n\u001b[1;32m   (...)\u001b[0m\n\u001b[0;32m   <a href='file:///d%3A/2%20Projetos%20-%20Seletivos/05%20Tradin_Sentiments_tests/venv/lib/site-packages/plotly/basedatatypes.py?line=3395'>3396</a>\u001b[0m \u001b[39mNone\u001b[39;00m\n\u001b[0;32m   <a href='file:///d%3A/2%20Projetos%20-%20Seletivos/05%20Tradin_Sentiments_tests/venv/lib/site-packages/plotly/basedatatypes.py?line=3396'>3397</a>\u001b[0m \u001b[39m\"\"\"\u001b[39;00m\n\u001b[0;32m   <a href='file:///d%3A/2%20Projetos%20-%20Seletivos/05%20Tradin_Sentiments_tests/venv/lib/site-packages/plotly/basedatatypes.py?line=3397'>3398</a>\u001b[0m \u001b[39mimport\u001b[39;00m \u001b[39mplotly\u001b[39;00m\u001b[39m.\u001b[39;00m\u001b[39mio\u001b[39;00m \u001b[39mas\u001b[39;00m \u001b[39mpio\u001b[39;00m\n\u001b[1;32m-> <a href='file:///d%3A/2%20Projetos%20-%20Seletivos/05%20Tradin_Sentiments_tests/venv/lib/site-packages/plotly/basedatatypes.py?line=3399'>3400</a>\u001b[0m \u001b[39mreturn\u001b[39;00m pio\u001b[39m.\u001b[39mshow(\u001b[39mself\u001b[39m, \u001b[39m*\u001b[39margs, \u001b[39m*\u001b[39m\u001b[39m*\u001b[39mkwargs)\n",
      "File \u001b[1;32md:\\2 Projetos - Seletivos\\05 Tradin_Sentiments_tests\\venv\\lib\\site-packages\\plotly\\io\\_renderers.py:397\u001b[0m, in \u001b[0;36mshow\u001b[1;34m(fig, renderer, validate, **kwargs)\u001b[0m\n\u001b[0;32m    <a href='file:///d%3A/2%20Projetos%20-%20Seletivos/05%20Tradin_Sentiments_tests/venv/lib/site-packages/plotly/io/_renderers.py?line=391'>392</a>\u001b[0m         \u001b[39mraise\u001b[39;00m \u001b[39mValueError\u001b[39;00m(\n\u001b[0;32m    <a href='file:///d%3A/2%20Projetos%20-%20Seletivos/05%20Tradin_Sentiments_tests/venv/lib/site-packages/plotly/io/_renderers.py?line=392'>393</a>\u001b[0m             \u001b[39m\"\u001b[39m\u001b[39mMime type rendering requires ipython but it is not installed\u001b[39m\u001b[39m\"\u001b[39m\n\u001b[0;32m    <a href='file:///d%3A/2%20Projetos%20-%20Seletivos/05%20Tradin_Sentiments_tests/venv/lib/site-packages/plotly/io/_renderers.py?line=393'>394</a>\u001b[0m         )\n\u001b[0;32m    <a href='file:///d%3A/2%20Projetos%20-%20Seletivos/05%20Tradin_Sentiments_tests/venv/lib/site-packages/plotly/io/_renderers.py?line=395'>396</a>\u001b[0m     \u001b[39mif\u001b[39;00m \u001b[39mnot\u001b[39;00m nbformat \u001b[39mor\u001b[39;00m LooseVersion(nbformat\u001b[39m.\u001b[39m__version__) \u001b[39m<\u001b[39m LooseVersion(\u001b[39m\"\u001b[39m\u001b[39m4.2.0\u001b[39m\u001b[39m\"\u001b[39m):\n\u001b[1;32m--> <a href='file:///d%3A/2%20Projetos%20-%20Seletivos/05%20Tradin_Sentiments_tests/venv/lib/site-packages/plotly/io/_renderers.py?line=396'>397</a>\u001b[0m         \u001b[39mraise\u001b[39;00m \u001b[39mValueError\u001b[39;00m(\n\u001b[0;32m    <a href='file:///d%3A/2%20Projetos%20-%20Seletivos/05%20Tradin_Sentiments_tests/venv/lib/site-packages/plotly/io/_renderers.py?line=397'>398</a>\u001b[0m             \u001b[39m\"\u001b[39m\u001b[39mMime type rendering requires nbformat>=4.2.0 but it is not installed\u001b[39m\u001b[39m\"\u001b[39m\n\u001b[0;32m    <a href='file:///d%3A/2%20Projetos%20-%20Seletivos/05%20Tradin_Sentiments_tests/venv/lib/site-packages/plotly/io/_renderers.py?line=398'>399</a>\u001b[0m         )\n\u001b[0;32m    <a href='file:///d%3A/2%20Projetos%20-%20Seletivos/05%20Tradin_Sentiments_tests/venv/lib/site-packages/plotly/io/_renderers.py?line=400'>401</a>\u001b[0m     ipython_display\u001b[39m.\u001b[39mdisplay(bundle, raw\u001b[39m=\u001b[39m\u001b[39mTrue\u001b[39;00m)\n\u001b[0;32m    <a href='file:///d%3A/2%20Projetos%20-%20Seletivos/05%20Tradin_Sentiments_tests/venv/lib/site-packages/plotly/io/_renderers.py?line=402'>403</a>\u001b[0m \u001b[39m# external renderers\u001b[39;00m\n",
      "\u001b[1;31mValueError\u001b[0m: Mime type rendering requires nbformat>=4.2.0 but it is not installed"
     ]
    }
   ],
   "source": [
    "fig = go.Figure()\n",
    "fig.add_trace(go.Scatter(x=df['Date'], y=df['Close'], name='Close price'))\n",
    "fig.update_layout(showlegend=True, title='Johnson and Johnson Stock Price 1985-2020')\n",
    "fig.show()"
   ]
  },
  {
   "cell_type": "code",
   "execution_count": 11,
   "metadata": {},
   "outputs": [],
   "source": [
    "train, test = df.loc[df['Date'] <= '2013-09-03'], df.loc[df['Date'] > '2013-09-03']"
   ]
  },
  {
   "cell_type": "code",
   "execution_count": 12,
   "metadata": {},
   "outputs": [
    {
     "data": {
      "text/html": [
       "<div>\n",
       "<style scoped>\n",
       "    .dataframe tbody tr th:only-of-type {\n",
       "        vertical-align: middle;\n",
       "    }\n",
       "\n",
       "    .dataframe tbody tr th {\n",
       "        vertical-align: top;\n",
       "    }\n",
       "\n",
       "    .dataframe thead th {\n",
       "        text-align: right;\n",
       "    }\n",
       "</style>\n",
       "<table border=\"1\" class=\"dataframe\">\n",
       "  <thead>\n",
       "    <tr style=\"text-align: right;\">\n",
       "      <th></th>\n",
       "      <th>Date</th>\n",
       "      <th>Close</th>\n",
       "    </tr>\n",
       "  </thead>\n",
       "  <tbody>\n",
       "    <tr>\n",
       "      <th>7054</th>\n",
       "      <td>2013-08-27</td>\n",
       "      <td>86.169998</td>\n",
       "    </tr>\n",
       "    <tr>\n",
       "      <th>7055</th>\n",
       "      <td>2013-08-28</td>\n",
       "      <td>86.529999</td>\n",
       "    </tr>\n",
       "    <tr>\n",
       "      <th>7056</th>\n",
       "      <td>2013-08-29</td>\n",
       "      <td>86.570000</td>\n",
       "    </tr>\n",
       "    <tr>\n",
       "      <th>7057</th>\n",
       "      <td>2013-08-30</td>\n",
       "      <td>86.410004</td>\n",
       "    </tr>\n",
       "    <tr>\n",
       "      <th>7058</th>\n",
       "      <td>2013-09-03</td>\n",
       "      <td>86.419998</td>\n",
       "    </tr>\n",
       "  </tbody>\n",
       "</table>\n",
       "</div>"
      ],
      "text/plain": [
       "           Date      Close\n",
       "7054 2013-08-27  86.169998\n",
       "7055 2013-08-28  86.529999\n",
       "7056 2013-08-29  86.570000\n",
       "7057 2013-08-30  86.410004\n",
       "7058 2013-09-03  86.419998"
      ]
     },
     "execution_count": 12,
     "metadata": {},
     "output_type": "execute_result"
    }
   ],
   "source": [
    "train.tail()"
   ]
  },
  {
   "cell_type": "code",
   "execution_count": 13,
   "metadata": {},
   "outputs": [
    {
     "data": {
      "text/html": [
       "<div>\n",
       "<style scoped>\n",
       "    .dataframe tbody tr th:only-of-type {\n",
       "        vertical-align: middle;\n",
       "    }\n",
       "\n",
       "    .dataframe tbody tr th {\n",
       "        vertical-align: top;\n",
       "    }\n",
       "\n",
       "    .dataframe thead th {\n",
       "        text-align: right;\n",
       "    }\n",
       "</style>\n",
       "<table border=\"1\" class=\"dataframe\">\n",
       "  <thead>\n",
       "    <tr style=\"text-align: right;\">\n",
       "      <th></th>\n",
       "      <th>Date</th>\n",
       "      <th>Close</th>\n",
       "    </tr>\n",
       "  </thead>\n",
       "  <tbody>\n",
       "    <tr>\n",
       "      <th>7059</th>\n",
       "      <td>2013-09-04</td>\n",
       "      <td>86.900002</td>\n",
       "    </tr>\n",
       "    <tr>\n",
       "      <th>7060</th>\n",
       "      <td>2013-09-05</td>\n",
       "      <td>87.040001</td>\n",
       "    </tr>\n",
       "    <tr>\n",
       "      <th>7061</th>\n",
       "      <td>2013-09-06</td>\n",
       "      <td>87.160004</td>\n",
       "    </tr>\n",
       "    <tr>\n",
       "      <th>7062</th>\n",
       "      <td>2013-09-09</td>\n",
       "      <td>87.559998</td>\n",
       "    </tr>\n",
       "    <tr>\n",
       "      <th>7063</th>\n",
       "      <td>2013-09-10</td>\n",
       "      <td>88.529999</td>\n",
       "    </tr>\n",
       "  </tbody>\n",
       "</table>\n",
       "</div>"
      ],
      "text/plain": [
       "           Date      Close\n",
       "7059 2013-09-04  86.900002\n",
       "7060 2013-09-05  87.040001\n",
       "7061 2013-09-06  87.160004\n",
       "7062 2013-09-09  87.559998\n",
       "7063 2013-09-10  88.529999"
      ]
     },
     "execution_count": 13,
     "metadata": {},
     "output_type": "execute_result"
    }
   ],
   "source": [
    "test.head()"
   ]
  },
  {
   "cell_type": "code",
   "execution_count": 14,
   "metadata": {},
   "outputs": [
    {
     "data": {
      "text/plain": [
       "((7059, 2), (1764, 2))"
      ]
     },
     "execution_count": 14,
     "metadata": {},
     "output_type": "execute_result"
    }
   ],
   "source": [
    "train.shape,test.shape"
   ]
  },
  {
   "cell_type": "code",
   "execution_count": 15,
   "metadata": {},
   "outputs": [
    {
     "name": "stderr",
     "output_type": "stream",
     "text": [
      "C:\\Users\\Lucas Silva\\AppData\\Local\\Temp\\ipykernel_5648\\1980345901.py:4: SettingWithCopyWarning:\n",
      "\n",
      "\n",
      "A value is trying to be set on a copy of a slice from a DataFrame.\n",
      "Try using .loc[row_indexer,col_indexer] = value instead\n",
      "\n",
      "See the caveats in the documentation: https://pandas.pydata.org/pandas-docs/stable/user_guide/indexing.html#returning-a-view-versus-a-copy\n",
      "\n",
      "C:\\Users\\Lucas Silva\\AppData\\Local\\Temp\\ipykernel_5648\\1980345901.py:5: SettingWithCopyWarning:\n",
      "\n",
      "\n",
      "A value is trying to be set on a copy of a slice from a DataFrame.\n",
      "Try using .loc[row_indexer,col_indexer] = value instead\n",
      "\n",
      "See the caveats in the documentation: https://pandas.pydata.org/pandas-docs/stable/user_guide/indexing.html#returning-a-view-versus-a-copy\n",
      "\n"
     ]
    }
   ],
   "source": [
    "scaler = StandardScaler()\n",
    "scaler = scaler.fit(train[['Close']])\n",
    "\n",
    "train['Close'] = scaler.transform(train[['Close']])\n",
    "test['Close'] = scaler.transform(test[['Close']])"
   ]
  },
  {
   "cell_type": "code",
   "execution_count": 16,
   "metadata": {},
   "outputs": [],
   "source": [
    "TIME_STEPS=30\n",
    "\n",
    "def create_sequences(X, y, time_steps=TIME_STEPS):\n",
    "    Xs, ys = [], []\n",
    "    for i in range(len(X)-time_steps):\n",
    "        Xs.append(X.iloc[i:(i+time_steps)].values)\n",
    "        ys.append(y.iloc[i+time_steps])\n",
    "    \n",
    "    return np.array(Xs), np.array(ys)\n",
    "\n",
    "X_train, y_train = create_sequences(train[['Close']], train['Close'])\n",
    "X_test, y_test = create_sequences(test[['Close']], test['Close'])"
   ]
  },
  {
   "cell_type": "code",
   "execution_count": 17,
   "metadata": {},
   "outputs": [
    {
     "name": "stdout",
     "output_type": "stream",
     "text": [
      "Training shape: (7029, 30, 1)\n",
      "Testing shape: (1734, 30, 1)\n"
     ]
    }
   ],
   "source": [
    "print(f'Training shape: {X_train.shape}')\n",
    "\n",
    "print(f'Testing shape: {X_test.shape}')"
   ]
  },
  {
   "cell_type": "code",
   "execution_count": 18,
   "metadata": {},
   "outputs": [
    {
     "name": "stdout",
     "output_type": "stream",
     "text": [
      "Model: \"sequential\"\n",
      "_________________________________________________________________\n",
      " Layer (type)                Output Shape              Param #   \n",
      "=================================================================\n",
      " lstm (LSTM)                 (None, 128)               66560     \n",
      "                                                                 \n",
      " dropout (Dropout)           (None, 128)               0         \n",
      "                                                                 \n",
      " repeat_vector (RepeatVector  (None, 30, 128)          0         \n",
      " )                                                               \n",
      "                                                                 \n",
      " lstm_1 (LSTM)               (None, 30, 128)           131584    \n",
      "                                                                 \n",
      " dropout_1 (Dropout)         (None, 30, 128)           0         \n",
      "                                                                 \n",
      " time_distributed (TimeDistr  (None, 30, 1)            129       \n",
      " ibuted)                                                         \n",
      "                                                                 \n",
      "=================================================================\n",
      "Total params: 198,273\n",
      "Trainable params: 198,273\n",
      "Non-trainable params: 0\n",
      "_________________________________________________________________\n"
     ]
    }
   ],
   "source": [
    "model = Sequential()\n",
    "model.add(LSTM(128, input_shape=(X_train.shape[1], X_train.shape[2])))\n",
    "model.add(Dropout(rate=0.2))\n",
    "model.add(RepeatVector(X_train.shape[1]))\n",
    "model.add(LSTM(128, return_sequences=True))\n",
    "model.add(Dropout(rate=0.2))\n",
    "model.add(TimeDistributed(Dense(X_train.shape[2])))\n",
    "model.compile(optimizer='adam', loss='mae')\n",
    "model.summary()"
   ]
  },
  {
   "cell_type": "code",
   "execution_count": 19,
   "metadata": {},
   "outputs": [
    {
     "name": "stdout",
     "output_type": "stream",
     "text": [
      "Epoch 1/100\n",
      "198/198 [==============================] - 9s 34ms/step - loss: 0.1415 - val_loss: 0.2188\n",
      "Epoch 2/100\n",
      "198/198 [==============================] - 6s 29ms/step - loss: 0.1118 - val_loss: 0.1777\n",
      "Epoch 3/100\n",
      "198/198 [==============================] - 6s 29ms/step - loss: 0.0837 - val_loss: 0.1316\n",
      "Epoch 4/100\n",
      "198/198 [==============================] - 5s 26ms/step - loss: 0.0788 - val_loss: 0.1063\n",
      "Epoch 5/100\n",
      "198/198 [==============================] - 5s 27ms/step - loss: 0.0812 - val_loss: 0.1183\n",
      "Epoch 6/100\n",
      "198/198 [==============================] - 5s 27ms/step - loss: 0.0906 - val_loss: 0.1440\n",
      "Epoch 7/100\n",
      "198/198 [==============================] - 5s 27ms/step - loss: 0.0975 - val_loss: 0.1297\n"
     ]
    }
   ],
   "source": [
    "history = model.fit(X_train, y_train, epochs=100, batch_size=32, validation_split=0.1,\n",
    "                    callbacks=[keras.callbacks.EarlyStopping(monitor='val_loss', patience=3, mode='min')], shuffle=False)"
   ]
  },
  {
   "cell_type": "code",
   "execution_count": 22,
   "metadata": {},
   "outputs": [
    {
     "data": {
      "image/png": "[encoded data removed]",
      "text/plain": [
       "<Figure size 432x288 with 1 Axes>"
      ]
     },
     "metadata": {
      "needs_background": "light"
     },
     "output_type": "display_data"
    }
   ],
   "source": [
    "\n",
    "plt.plot(history.history['loss'], label='Training loss')\n",
    "plt.plot(history.history['val_loss'], label='Validation loss')\n",
    "plt.legend();"
   ]
  },
  {
   "cell_type": "code",
   "execution_count": 23,
   "metadata": {},
   "outputs": [
    {
     "name": "stdout",
     "output_type": "stream",
     "text": [
      "55/55 [==============================] - 1s 13ms/step - loss: 0.8516\n"
     ]
    },
    {
     "data": {
      "text/plain": [
       "0.851621150970459"
      ]
     },
     "execution_count": 23,
     "metadata": {},
     "output_type": "execute_result"
    }
   ],
   "source": [
    "model.evaluate(X_test, y_test)"
   ]
  },
  {
   "cell_type": "code",
   "execution_count": 24,
   "metadata": {},
   "outputs": [
    {
     "name": "stdout",
     "output_type": "stream",
     "text": [
      "Reconstruction error threshold: 0.7658653005194344\n"
     ]
    },
    {
     "data": {
      "image/png": "[encoded data removed]",
      "text/plain": [
       "<Figure size 432x288 with 1 Axes>"
      ]
     },
     "metadata": {
      "needs_background": "light"
     },
     "output_type": "display_data"
    }
   ],
   "source": [
    "X_train_pred = model.predict(X_train, verbose=0)\n",
    "train_mae_loss = np.mean(np.abs(X_train_pred - X_train), axis=1)\n",
    "\n",
    "plt.hist(train_mae_loss, bins=50)\n",
    "plt.xlabel('Train MAE loss')\n",
    "plt.ylabel('Number of Samples');\n",
    "\n",
    "threshold = np.max(train_mae_loss)\n",
    "print(f'Reconstruction error threshold: {threshold}')"
   ]
  },
  {
   "cell_type": "code",
   "execution_count": 25,
   "metadata": {},
   "outputs": [
    {
     "data": {
      "image/png": "[encoded data removed]",
      "text/plain": [
       "<Figure size 432x288 with 1 Axes>"
      ]
     },
     "metadata": {
      "needs_background": "light"
     },
     "output_type": "display_data"
    }
   ],
   "source": [
    "X_test_pred = model.predict(X_test, verbose=0)\n",
    "test_mae_loss = np.mean(np.abs(X_test_pred-X_test), axis=1)\n",
    "\n",
    "plt.hist(test_mae_loss, bins=50)\n",
    "plt.xlabel('Test MAE loss')\n",
    "plt.ylabel('Number of samples');"
   ]
  },
  {
   "cell_type": "code",
   "execution_count": 26,
   "metadata": {},
   "outputs": [],
   "source": [
    "test_score_df = pd.DataFrame(test[TIME_STEPS:])\n",
    "test_score_df['loss'] = test_mae_loss\n",
    "test_score_df['threshold'] = threshold\n",
    "test_score_df['anomaly'] = test_score_df['loss'] > test_score_df['threshold']\n",
    "test_score_df['Close'] = test[TIME_STEPS:]['Close']"
   ]
  },
  {
   "cell_type": "code",
   "execution_count": 27,
   "metadata": {},
   "outputs": [
    {
     "data": {
      "text/html": [
       "<div>\n",
       "<style scoped>\n",
       "    .dataframe tbody tr th:only-of-type {\n",
       "        vertical-align: middle;\n",
       "    }\n",
       "\n",
       "    .dataframe tbody tr th {\n",
       "        vertical-align: top;\n",
       "    }\n",
       "\n",
       "    .dataframe thead th {\n",
       "        text-align: right;\n",
       "    }\n",
       "</style>\n",
       "<table border=\"1\" class=\"dataframe\">\n",
       "  <thead>\n",
       "    <tr style=\"text-align: right;\">\n",
       "      <th></th>\n",
       "      <th>Date</th>\n",
       "      <th>Close</th>\n",
       "      <th>loss</th>\n",
       "      <th>threshold</th>\n",
       "      <th>anomaly</th>\n",
       "    </tr>\n",
       "  </thead>\n",
       "  <tbody>\n",
       "    <tr>\n",
       "      <th>8818</th>\n",
       "      <td>2020-08-28</td>\n",
       "      <td>4.690756</td>\n",
       "      <td>1.356029</td>\n",
       "      <td>0.765865</td>\n",
       "      <td>True</td>\n",
       "    </tr>\n",
       "    <tr>\n",
       "      <th>8819</th>\n",
       "      <td>2020-08-31</td>\n",
       "      <td>4.681455</td>\n",
       "      <td>1.353535</td>\n",
       "      <td>0.765865</td>\n",
       "      <td>True</td>\n",
       "    </tr>\n",
       "    <tr>\n",
       "      <th>8820</th>\n",
       "      <td>2020-09-01</td>\n",
       "      <td>4.605024</td>\n",
       "      <td>1.355284</td>\n",
       "      <td>0.765865</td>\n",
       "      <td>True</td>\n",
       "    </tr>\n",
       "    <tr>\n",
       "      <th>8821</th>\n",
       "      <td>2020-09-02</td>\n",
       "      <td>4.698440</td>\n",
       "      <td>1.369022</td>\n",
       "      <td>0.765865</td>\n",
       "      <td>True</td>\n",
       "    </tr>\n",
       "    <tr>\n",
       "      <th>8822</th>\n",
       "      <td>2020-09-03</td>\n",
       "      <td>4.525357</td>\n",
       "      <td>1.365995</td>\n",
       "      <td>0.765865</td>\n",
       "      <td>True</td>\n",
       "    </tr>\n",
       "  </tbody>\n",
       "</table>\n",
       "</div>"
      ],
      "text/plain": [
       "           Date     Close      loss  threshold  anomaly\n",
       "8818 2020-08-28  4.690756  1.356029   0.765865     True\n",
       "8819 2020-08-31  4.681455  1.353535   0.765865     True\n",
       "8820 2020-09-01  4.605024  1.355284   0.765865     True\n",
       "8821 2020-09-02  4.698440  1.369022   0.765865     True\n",
       "8822 2020-09-03  4.525357  1.365995   0.765865     True"
      ]
     },
     "execution_count": 27,
     "metadata": {},
     "output_type": "execute_result"
    }
   ],
   "source": [
    "test_score_df.tail()"
   ]
  },
  {
   "cell_type": "code",
   "execution_count": 29,
   "metadata": {},
   "outputs": [
    {
     "ename": "ValueError",
     "evalue": "Mime type rendering requires nbformat>=4.2.0 but it is not installed",
     "output_type": "error",
     "traceback": [
      "\u001b[1;31m---------------------------------------------------------------------------\u001b[0m",
      "\u001b[1;31mValueError\u001b[0m                                Traceback (most recent call last)",
      "\u001b[1;32md:\\2 Projetos - Seletivos\\05 Tradin_Sentiments_tests\\Trading_Sentiment_Tests-master\\ML_TEST\\Timeseries anomaly detection using LSTM Autoencoder JNJ.ipynb Cell 25'\u001b[0m in \u001b[0;36m<cell line: 5>\u001b[1;34m()\u001b[0m\n\u001b[0;32m      <a href='vscode-notebook-cell:/d%3A/2%20Projetos%20-%20Seletivos/05%20Tradin_Sentiments_tests/Trading_Sentiment_Tests-master/ML_TEST/Timeseries%20anomaly%20detection%20using%20LSTM%20Autoencoder%20JNJ.ipynb#ch0000024?line=2'>3</a>\u001b[0m fig\u001b[39m.\u001b[39madd_trace(go\u001b[39m.\u001b[39mScatter(x\u001b[39m=\u001b[39mtest_score_df[\u001b[39m'\u001b[39m\u001b[39mDate\u001b[39m\u001b[39m'\u001b[39m], y\u001b[39m=\u001b[39mtest_score_df[\u001b[39m'\u001b[39m\u001b[39mthreshold\u001b[39m\u001b[39m'\u001b[39m], name\u001b[39m=\u001b[39m\u001b[39m'\u001b[39m\u001b[39mThreshold\u001b[39m\u001b[39m'\u001b[39m))\n\u001b[0;32m      <a href='vscode-notebook-cell:/d%3A/2%20Projetos%20-%20Seletivos/05%20Tradin_Sentiments_tests/Trading_Sentiment_Tests-master/ML_TEST/Timeseries%20anomaly%20detection%20using%20LSTM%20Autoencoder%20JNJ.ipynb#ch0000024?line=3'>4</a>\u001b[0m fig\u001b[39m.\u001b[39mupdate_layout(showlegend\u001b[39m=\u001b[39m\u001b[39mTrue\u001b[39;00m, title\u001b[39m=\u001b[39m\u001b[39m'\u001b[39m\u001b[39mTest loss vs. Threshold\u001b[39m\u001b[39m'\u001b[39m)\n\u001b[1;32m----> <a href='vscode-notebook-cell:/d%3A/2%20Projetos%20-%20Seletivos/05%20Tradin_Sentiments_tests/Trading_Sentiment_Tests-master/ML_TEST/Timeseries%20anomaly%20detection%20using%20LSTM%20Autoencoder%20JNJ.ipynb#ch0000024?line=4'>5</a>\u001b[0m fig\u001b[39m.\u001b[39;49mshow()\n",
      "File \u001b[1;32md:\\2 Projetos - Seletivos\\05 Tradin_Sentiments_tests\\venv\\lib\\site-packages\\plotly\\basedatatypes.py:3400\u001b[0m, in \u001b[0;36mBaseFigure.show\u001b[1;34m(self, *args, **kwargs)\u001b[0m\n\u001b[0;32m   <a href='file:///d%3A/2%20Projetos%20-%20Seletivos/05%20Tradin_Sentiments_tests/venv/lib/site-packages/plotly/basedatatypes.py?line=3366'>3367</a>\u001b[0m \u001b[39m\"\"\"\u001b[39;00m\n\u001b[0;32m   <a href='file:///d%3A/2%20Projetos%20-%20Seletivos/05%20Tradin_Sentiments_tests/venv/lib/site-packages/plotly/basedatatypes.py?line=3367'>3368</a>\u001b[0m \u001b[39mShow a figure using either the default renderer(s) or the renderer(s)\u001b[39;00m\n\u001b[0;32m   <a href='file:///d%3A/2%20Projetos%20-%20Seletivos/05%20Tradin_Sentiments_tests/venv/lib/site-packages/plotly/basedatatypes.py?line=3368'>3369</a>\u001b[0m \u001b[39mspecified by the renderer argument\u001b[39;00m\n\u001b[1;32m   (...)\u001b[0m\n\u001b[0;32m   <a href='file:///d%3A/2%20Projetos%20-%20Seletivos/05%20Tradin_Sentiments_tests/venv/lib/site-packages/plotly/basedatatypes.py?line=3395'>3396</a>\u001b[0m \u001b[39mNone\u001b[39;00m\n\u001b[0;32m   <a href='file:///d%3A/2%20Projetos%20-%20Seletivos/05%20Tradin_Sentiments_tests/venv/lib/site-packages/plotly/basedatatypes.py?line=3396'>3397</a>\u001b[0m \u001b[39m\"\"\"\u001b[39;00m\n\u001b[0;32m   <a href='file:///d%3A/2%20Projetos%20-%20Seletivos/05%20Tradin_Sentiments_tests/venv/lib/site-packages/plotly/basedatatypes.py?line=3397'>3398</a>\u001b[0m \u001b[39mimport\u001b[39;00m \u001b[39mplotly\u001b[39;00m\u001b[39m.\u001b[39;00m\u001b[39mio\u001b[39;00m \u001b[39mas\u001b[39;00m \u001b[39mpio\u001b[39;00m\n\u001b[1;32m-> <a href='file:///d%3A/2%20Projetos%20-%20Seletivos/05%20Tradin_Sentiments_tests/venv/lib/site-packages/plotly/basedatatypes.py?line=3399'>3400</a>\u001b[0m \u001b[39mreturn\u001b[39;00m pio\u001b[39m.\u001b[39mshow(\u001b[39mself\u001b[39m, \u001b[39m*\u001b[39margs, \u001b[39m*\u001b[39m\u001b[39m*\u001b[39mkwargs)\n",
      "File \u001b[1;32md:\\2 Projetos - Seletivos\\05 Tradin_Sentiments_tests\\venv\\lib\\site-packages\\plotly\\io\\_renderers.py:397\u001b[0m, in \u001b[0;36mshow\u001b[1;34m(fig, renderer, validate, **kwargs)\u001b[0m\n\u001b[0;32m    <a href='file:///d%3A/2%20Projetos%20-%20Seletivos/05%20Tradin_Sentiments_tests/venv/lib/site-packages/plotly/io/_renderers.py?line=391'>392</a>\u001b[0m         \u001b[39mraise\u001b[39;00m \u001b[39mValueError\u001b[39;00m(\n\u001b[0;32m    <a href='file:///d%3A/2%20Projetos%20-%20Seletivos/05%20Tradin_Sentiments_tests/venv/lib/site-packages/plotly/io/_renderers.py?line=392'>393</a>\u001b[0m             \u001b[39m\"\u001b[39m\u001b[39mMime type rendering requires ipython but it is not installed\u001b[39m\u001b[39m\"\u001b[39m\n\u001b[0;32m    <a href='file:///d%3A/2%20Projetos%20-%20Seletivos/05%20Tradin_Sentiments_tests/venv/lib/site-packages/plotly/io/_renderers.py?line=393'>394</a>\u001b[0m         )\n\u001b[0;32m    <a href='file:///d%3A/2%20Projetos%20-%20Seletivos/05%20Tradin_Sentiments_tests/venv/lib/site-packages/plotly/io/_renderers.py?line=395'>396</a>\u001b[0m     \u001b[39mif\u001b[39;00m \u001b[39mnot\u001b[39;00m nbformat \u001b[39mor\u001b[39;00m LooseVersion(nbformat\u001b[39m.\u001b[39m__version__) \u001b[39m<\u001b[39m LooseVersion(\u001b[39m\"\u001b[39m\u001b[39m4.2.0\u001b[39m\u001b[39m\"\u001b[39m):\n\u001b[1;32m--> <a href='file:///d%3A/2%20Projetos%20-%20Seletivos/05%20Tradin_Sentiments_tests/venv/lib/site-packages/plotly/io/_renderers.py?line=396'>397</a>\u001b[0m         \u001b[39mraise\u001b[39;00m \u001b[39mValueError\u001b[39;00m(\n\u001b[0;32m    <a href='file:///d%3A/2%20Projetos%20-%20Seletivos/05%20Tradin_Sentiments_tests/venv/lib/site-packages/plotly/io/_renderers.py?line=397'>398</a>\u001b[0m             \u001b[39m\"\u001b[39m\u001b[39mMime type rendering requires nbformat>=4.2.0 but it is not installed\u001b[39m\u001b[39m\"\u001b[39m\n\u001b[0;32m    <a href='file:///d%3A/2%20Projetos%20-%20Seletivos/05%20Tradin_Sentiments_tests/venv/lib/site-packages/plotly/io/_renderers.py?line=398'>399</a>\u001b[0m         )\n\u001b[0;32m    <a href='file:///d%3A/2%20Projetos%20-%20Seletivos/05%20Tradin_Sentiments_tests/venv/lib/site-packages/plotly/io/_renderers.py?line=400'>401</a>\u001b[0m     ipython_display\u001b[39m.\u001b[39mdisplay(bundle, raw\u001b[39m=\u001b[39m\u001b[39mTrue\u001b[39;00m)\n\u001b[0;32m    <a href='file:///d%3A/2%20Projetos%20-%20Seletivos/05%20Tradin_Sentiments_tests/venv/lib/site-packages/plotly/io/_renderers.py?line=402'>403</a>\u001b[0m \u001b[39m# external renderers\u001b[39;00m\n",
      "\u001b[1;31mValueError\u001b[0m: Mime type rendering requires nbformat>=4.2.0 but it is not installed"
     ]
    }
   ],
   "source": [
    "fig = go.Figure()\n",
    "fig.add_trace(go.Scatter(x=test_score_df['Date'], y=test_score_df['loss'], name='Test loss'))\n",
    "fig.add_trace(go.Scatter(x=test_score_df['Date'], y=test_score_df['threshold'], name='Threshold'))\n",
    "fig.update_layout(showlegend=True, title='Test loss vs. Threshold')\n",
    "fig.show()"
   ]
  },
  {
   "cell_type": "code",
   "execution_count": 30,
   "metadata": {},
   "outputs": [
    {
     "data": {
      "text/html": [
       "<div>\n",
       "<style scoped>\n",
       "    .dataframe tbody tr th:only-of-type {\n",
       "        vertical-align: middle;\n",
       "    }\n",
       "\n",
       "    .dataframe tbody tr th {\n",
       "        vertical-align: top;\n",
       "    }\n",
       "\n",
       "    .dataframe thead th {\n",
       "        text-align: right;\n",
       "    }\n",
       "</style>\n",
       "<table border=\"1\" class=\"dataframe\">\n",
       "  <thead>\n",
       "    <tr style=\"text-align: right;\">\n",
       "      <th></th>\n",
       "      <th>Date</th>\n",
       "      <th>Close</th>\n",
       "      <th>loss</th>\n",
       "      <th>threshold</th>\n",
       "      <th>anomaly</th>\n",
       "    </tr>\n",
       "  </thead>\n",
       "  <tbody>\n",
       "    <tr>\n",
       "      <th>7790</th>\n",
       "      <td>2016-07-29</td>\n",
       "      <td>3.541855</td>\n",
       "      <td>0.773632</td>\n",
       "      <td>0.765865</td>\n",
       "      <td>True</td>\n",
       "    </tr>\n",
       "    <tr>\n",
       "      <th>7791</th>\n",
       "      <td>2016-08-01</td>\n",
       "      <td>3.548730</td>\n",
       "      <td>0.784503</td>\n",
       "      <td>0.765865</td>\n",
       "      <td>True</td>\n",
       "    </tr>\n",
       "    <tr>\n",
       "      <th>7792</th>\n",
       "      <td>2016-08-02</td>\n",
       "      <td>3.526488</td>\n",
       "      <td>0.791077</td>\n",
       "      <td>0.765865</td>\n",
       "      <td>True</td>\n",
       "    </tr>\n",
       "    <tr>\n",
       "      <th>7793</th>\n",
       "      <td>2016-08-03</td>\n",
       "      <td>3.488070</td>\n",
       "      <td>0.805428</td>\n",
       "      <td>0.765865</td>\n",
       "      <td>True</td>\n",
       "    </tr>\n",
       "    <tr>\n",
       "      <th>7794</th>\n",
       "      <td>2016-08-04</td>\n",
       "      <td>3.486452</td>\n",
       "      <td>0.824460</td>\n",
       "      <td>0.765865</td>\n",
       "      <td>True</td>\n",
       "    </tr>\n",
       "  </tbody>\n",
       "</table>\n",
       "</div>"
      ],
      "text/plain": [
       "           Date     Close      loss  threshold  anomaly\n",
       "7790 2016-07-29  3.541855  0.773632   0.765865     True\n",
       "7791 2016-08-01  3.548730  0.784503   0.765865     True\n",
       "7792 2016-08-02  3.526488  0.791077   0.765865     True\n",
       "7793 2016-08-03  3.488070  0.805428   0.765865     True\n",
       "7794 2016-08-04  3.486452  0.824460   0.765865     True"
      ]
     },
     "execution_count": 30,
     "metadata": {},
     "output_type": "execute_result"
    }
   ],
   "source": [
    "anomalies = test_score_df.loc[test_score_df['anomaly'] == True]\n",
    "anomalies.head()"
   ]
  },
  {
   "cell_type": "code",
   "execution_count": 31,
   "metadata": {},
   "outputs": [
    {
     "data": {
      "text/plain": [
       "(960, 5)"
      ]
     },
     "execution_count": 31,
     "metadata": {},
     "output_type": "execute_result"
    }
   ],
   "source": [
    "anomalies.shape"
   ]
  },
  {
   "cell_type": "code",
   "execution_count": 32,
   "metadata": {},
   "outputs": [
    {
     "ename": "ValueError",
     "evalue": "Expected 2D array, got 1D array instead:\narray=[2.16204066 2.1968191  2.18306932 ... 4.60502362 4.69844003 4.5253567 ].\nReshape your data either using array.reshape(-1, 1) if your data has a single feature or array.reshape(1, -1) if it contains a single sample.",
     "output_type": "error",
     "traceback": [
      "\u001b[1;31m---------------------------------------------------------------------------\u001b[0m",
      "\u001b[1;31mValueError\u001b[0m                                Traceback (most recent call last)",
      "\u001b[1;32md:\\2 Projetos - Seletivos\\05 Tradin_Sentiments_tests\\Trading_Sentiment_Tests-master\\ML_TEST\\Timeseries anomaly detection using LSTM Autoencoder JNJ.ipynb Cell 28'\u001b[0m in \u001b[0;36m<cell line: 2>\u001b[1;34m()\u001b[0m\n\u001b[0;32m      <a href='vscode-notebook-cell:/d%3A/2%20Projetos%20-%20Seletivos/05%20Tradin_Sentiments_tests/Trading_Sentiment_Tests-master/ML_TEST/Timeseries%20anomaly%20detection%20using%20LSTM%20Autoencoder%20JNJ.ipynb#ch0000027?line=0'>1</a>\u001b[0m fig \u001b[39m=\u001b[39m go\u001b[39m.\u001b[39mFigure()\n\u001b[1;32m----> <a href='vscode-notebook-cell:/d%3A/2%20Projetos%20-%20Seletivos/05%20Tradin_Sentiments_tests/Trading_Sentiment_Tests-master/ML_TEST/Timeseries%20anomaly%20detection%20using%20LSTM%20Autoencoder%20JNJ.ipynb#ch0000027?line=1'>2</a>\u001b[0m fig\u001b[39m.\u001b[39madd_trace(go\u001b[39m.\u001b[39mScatter(x\u001b[39m=\u001b[39mtest_score_df[\u001b[39m'\u001b[39m\u001b[39mDate\u001b[39m\u001b[39m'\u001b[39m], y\u001b[39m=\u001b[39mscaler\u001b[39m.\u001b[39;49minverse_transform(test_score_df[\u001b[39m'\u001b[39;49m\u001b[39mClose\u001b[39;49m\u001b[39m'\u001b[39;49m]), name\u001b[39m=\u001b[39m\u001b[39m'\u001b[39m\u001b[39mClose price\u001b[39m\u001b[39m'\u001b[39m))\n\u001b[0;32m      <a href='vscode-notebook-cell:/d%3A/2%20Projetos%20-%20Seletivos/05%20Tradin_Sentiments_tests/Trading_Sentiment_Tests-master/ML_TEST/Timeseries%20anomaly%20detection%20using%20LSTM%20Autoencoder%20JNJ.ipynb#ch0000027?line=2'>3</a>\u001b[0m fig\u001b[39m.\u001b[39madd_trace(go\u001b[39m.\u001b[39mScatter(x\u001b[39m=\u001b[39manomalies[\u001b[39m'\u001b[39m\u001b[39mDate\u001b[39m\u001b[39m'\u001b[39m], y\u001b[39m=\u001b[39mscaler\u001b[39m.\u001b[39minverse_transform(anomalies[\u001b[39m'\u001b[39m\u001b[39mClose\u001b[39m\u001b[39m'\u001b[39m]), mode\u001b[39m=\u001b[39m\u001b[39m'\u001b[39m\u001b[39mmarkers\u001b[39m\u001b[39m'\u001b[39m, name\u001b[39m=\u001b[39m\u001b[39m'\u001b[39m\u001b[39mAnomaly\u001b[39m\u001b[39m'\u001b[39m))\n\u001b[0;32m      <a href='vscode-notebook-cell:/d%3A/2%20Projetos%20-%20Seletivos/05%20Tradin_Sentiments_tests/Trading_Sentiment_Tests-master/ML_TEST/Timeseries%20anomaly%20detection%20using%20LSTM%20Autoencoder%20JNJ.ipynb#ch0000027?line=3'>4</a>\u001b[0m fig\u001b[39m.\u001b[39mupdate_layout(showlegend\u001b[39m=\u001b[39m\u001b[39mTrue\u001b[39;00m, title\u001b[39m=\u001b[39m\u001b[39m'\u001b[39m\u001b[39mDetected anomalies\u001b[39m\u001b[39m'\u001b[39m)\n",
      "File \u001b[1;32md:\\2 Projetos - Seletivos\\05 Tradin_Sentiments_tests\\venv\\lib\\site-packages\\sklearn\\preprocessing\\_data.py:1016\u001b[0m, in \u001b[0;36mStandardScaler.inverse_transform\u001b[1;34m(self, X, copy)\u001b[0m\n\u001b[0;32m   <a href='file:///d%3A/2%20Projetos%20-%20Seletivos/05%20Tradin_Sentiments_tests/venv/lib/site-packages/sklearn/preprocessing/_data.py?line=1012'>1013</a>\u001b[0m check_is_fitted(\u001b[39mself\u001b[39m)\n\u001b[0;32m   <a href='file:///d%3A/2%20Projetos%20-%20Seletivos/05%20Tradin_Sentiments_tests/venv/lib/site-packages/sklearn/preprocessing/_data.py?line=1014'>1015</a>\u001b[0m copy \u001b[39m=\u001b[39m copy \u001b[39mif\u001b[39;00m copy \u001b[39mis\u001b[39;00m \u001b[39mnot\u001b[39;00m \u001b[39mNone\u001b[39;00m \u001b[39melse\u001b[39;00m \u001b[39mself\u001b[39m\u001b[39m.\u001b[39mcopy\n\u001b[1;32m-> <a href='file:///d%3A/2%20Projetos%20-%20Seletivos/05%20Tradin_Sentiments_tests/venv/lib/site-packages/sklearn/preprocessing/_data.py?line=1015'>1016</a>\u001b[0m X \u001b[39m=\u001b[39m check_array(\n\u001b[0;32m   <a href='file:///d%3A/2%20Projetos%20-%20Seletivos/05%20Tradin_Sentiments_tests/venv/lib/site-packages/sklearn/preprocessing/_data.py?line=1016'>1017</a>\u001b[0m     X,\n\u001b[0;32m   <a href='file:///d%3A/2%20Projetos%20-%20Seletivos/05%20Tradin_Sentiments_tests/venv/lib/site-packages/sklearn/preprocessing/_data.py?line=1017'>1018</a>\u001b[0m     accept_sparse\u001b[39m=\u001b[39;49m\u001b[39m\"\u001b[39;49m\u001b[39mcsr\u001b[39;49m\u001b[39m\"\u001b[39;49m,\n\u001b[0;32m   <a href='file:///d%3A/2%20Projetos%20-%20Seletivos/05%20Tradin_Sentiments_tests/venv/lib/site-packages/sklearn/preprocessing/_data.py?line=1018'>1019</a>\u001b[0m     copy\u001b[39m=\u001b[39;49mcopy,\n\u001b[0;32m   <a href='file:///d%3A/2%20Projetos%20-%20Seletivos/05%20Tradin_Sentiments_tests/venv/lib/site-packages/sklearn/preprocessing/_data.py?line=1019'>1020</a>\u001b[0m     estimator\u001b[39m=\u001b[39;49m\u001b[39mself\u001b[39;49m,\n\u001b[0;32m   <a href='file:///d%3A/2%20Projetos%20-%20Seletivos/05%20Tradin_Sentiments_tests/venv/lib/site-packages/sklearn/preprocessing/_data.py?line=1020'>1021</a>\u001b[0m     dtype\u001b[39m=\u001b[39;49mFLOAT_DTYPES,\n\u001b[0;32m   <a href='file:///d%3A/2%20Projetos%20-%20Seletivos/05%20Tradin_Sentiments_tests/venv/lib/site-packages/sklearn/preprocessing/_data.py?line=1021'>1022</a>\u001b[0m     force_all_finite\u001b[39m=\u001b[39;49m\u001b[39m\"\u001b[39;49m\u001b[39mallow-nan\u001b[39;49m\u001b[39m\"\u001b[39;49m,\n\u001b[0;32m   <a href='file:///d%3A/2%20Projetos%20-%20Seletivos/05%20Tradin_Sentiments_tests/venv/lib/site-packages/sklearn/preprocessing/_data.py?line=1022'>1023</a>\u001b[0m )\n\u001b[0;32m   <a href='file:///d%3A/2%20Projetos%20-%20Seletivos/05%20Tradin_Sentiments_tests/venv/lib/site-packages/sklearn/preprocessing/_data.py?line=1024'>1025</a>\u001b[0m \u001b[39mif\u001b[39;00m sparse\u001b[39m.\u001b[39missparse(X):\n\u001b[0;32m   <a href='file:///d%3A/2%20Projetos%20-%20Seletivos/05%20Tradin_Sentiments_tests/venv/lib/site-packages/sklearn/preprocessing/_data.py?line=1025'>1026</a>\u001b[0m     \u001b[39mif\u001b[39;00m \u001b[39mself\u001b[39m\u001b[39m.\u001b[39mwith_mean:\n",
      "File \u001b[1;32md:\\2 Projetos - Seletivos\\05 Tradin_Sentiments_tests\\venv\\lib\\site-packages\\sklearn\\utils\\validation.py:769\u001b[0m, in \u001b[0;36mcheck_array\u001b[1;34m(array, accept_sparse, accept_large_sparse, dtype, order, copy, force_all_finite, ensure_2d, allow_nd, ensure_min_samples, ensure_min_features, estimator)\u001b[0m\n\u001b[0;32m    <a href='file:///d%3A/2%20Projetos%20-%20Seletivos/05%20Tradin_Sentiments_tests/venv/lib/site-packages/sklearn/utils/validation.py?line=766'>767</a>\u001b[0m     \u001b[39m# If input is 1D raise error\u001b[39;00m\n\u001b[0;32m    <a href='file:///d%3A/2%20Projetos%20-%20Seletivos/05%20Tradin_Sentiments_tests/venv/lib/site-packages/sklearn/utils/validation.py?line=767'>768</a>\u001b[0m     \u001b[39mif\u001b[39;00m array\u001b[39m.\u001b[39mndim \u001b[39m==\u001b[39m \u001b[39m1\u001b[39m:\n\u001b[1;32m--> <a href='file:///d%3A/2%20Projetos%20-%20Seletivos/05%20Tradin_Sentiments_tests/venv/lib/site-packages/sklearn/utils/validation.py?line=768'>769</a>\u001b[0m         \u001b[39mraise\u001b[39;00m \u001b[39mValueError\u001b[39;00m(\n\u001b[0;32m    <a href='file:///d%3A/2%20Projetos%20-%20Seletivos/05%20Tradin_Sentiments_tests/venv/lib/site-packages/sklearn/utils/validation.py?line=769'>770</a>\u001b[0m             \u001b[39m\"\u001b[39m\u001b[39mExpected 2D array, got 1D array instead:\u001b[39m\u001b[39m\\n\u001b[39;00m\u001b[39marray=\u001b[39m\u001b[39m{}\u001b[39;00m\u001b[39m.\u001b[39m\u001b[39m\\n\u001b[39;00m\u001b[39m\"\u001b[39m\n\u001b[0;32m    <a href='file:///d%3A/2%20Projetos%20-%20Seletivos/05%20Tradin_Sentiments_tests/venv/lib/site-packages/sklearn/utils/validation.py?line=770'>771</a>\u001b[0m             \u001b[39m\"\u001b[39m\u001b[39mReshape your data either using array.reshape(-1, 1) if \u001b[39m\u001b[39m\"\u001b[39m\n\u001b[0;32m    <a href='file:///d%3A/2%20Projetos%20-%20Seletivos/05%20Tradin_Sentiments_tests/venv/lib/site-packages/sklearn/utils/validation.py?line=771'>772</a>\u001b[0m             \u001b[39m\"\u001b[39m\u001b[39myour data has a single feature or array.reshape(1, -1) \u001b[39m\u001b[39m\"\u001b[39m\n\u001b[0;32m    <a href='file:///d%3A/2%20Projetos%20-%20Seletivos/05%20Tradin_Sentiments_tests/venv/lib/site-packages/sklearn/utils/validation.py?line=772'>773</a>\u001b[0m             \u001b[39m\"\u001b[39m\u001b[39mif it contains a single sample.\u001b[39m\u001b[39m\"\u001b[39m\u001b[39m.\u001b[39mformat(array)\n\u001b[0;32m    <a href='file:///d%3A/2%20Projetos%20-%20Seletivos/05%20Tradin_Sentiments_tests/venv/lib/site-packages/sklearn/utils/validation.py?line=773'>774</a>\u001b[0m         )\n\u001b[0;32m    <a href='file:///d%3A/2%20Projetos%20-%20Seletivos/05%20Tradin_Sentiments_tests/venv/lib/site-packages/sklearn/utils/validation.py?line=775'>776</a>\u001b[0m \u001b[39m# make sure we actually converted to numeric:\u001b[39;00m\n\u001b[0;32m    <a href='file:///d%3A/2%20Projetos%20-%20Seletivos/05%20Tradin_Sentiments_tests/venv/lib/site-packages/sklearn/utils/validation.py?line=776'>777</a>\u001b[0m \u001b[39mif\u001b[39;00m dtype_numeric \u001b[39mand\u001b[39;00m array\u001b[39m.\u001b[39mdtype\u001b[39m.\u001b[39mkind \u001b[39min\u001b[39;00m \u001b[39m\"\u001b[39m\u001b[39mOUSV\u001b[39m\u001b[39m\"\u001b[39m:\n",
      "\u001b[1;31mValueError\u001b[0m: Expected 2D array, got 1D array instead:\narray=[2.16204066 2.1968191  2.18306932 ... 4.60502362 4.69844003 4.5253567 ].\nReshape your data either using array.reshape(-1, 1) if your data has a single feature or array.reshape(1, -1) if it contains a single sample."
     ]
    }
   ],
   "source": [
    "fig = go.Figure()\n",
    "fig.add_trace(go.Scatter(x=test_score_df['Date'], y=scaler.inverse_transform(test_score_df['Close']), name='Close price'))\n",
    "fig.add_trace(go.Scatter(x=anomalies['Date'], y=scaler.inverse_transform(anomalies['Close']), mode='markers', name='Anomaly'))\n",
    "fig.update_layout(showlegend=True, title='Detected anomalies')\n",
    "fig.show()"
   ]
  },
  {
   "cell_type": "code",
   "execution_count": null,
   "metadata": {},
   "outputs": [],
   "source": []
  }
 ],
 "metadata": {
  "kernelspec": {
   "display_name": "Python 3",
   "language": "python",
   "name": "python3"
  },
  "language_info": {
   "codemirror_mode": {
    "name": "ipython",
    "version": 3
   },
   "file_extension": ".py",
   "mimetype": "text/x-python",
   "name": "python",
   "nbconvert_exporter": "python",
   "pygments_lexer": "ipython3",
   "version": "3.9.11"
  }
 },
 "nbformat": 4,
 "nbformat_minor": 2
}
